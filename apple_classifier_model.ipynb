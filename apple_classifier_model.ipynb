{
  "nbformat": 4,
  "nbformat_minor": 0,
  "metadata": {
    "colab": {
      "name": "apple_classifier_model",
      "provenance": []
    },
    "kernelspec": {
      "name": "python3",
      "display_name": "Python 3"
    },
    "language_info": {
      "name": "python"
    }
  },
  "cells": [
    {
      "cell_type": "code",
      "metadata": {
        "colab": {
          "base_uri": "https://localhost:8080/"
        },
        "id": "Pw6UT59qqjMN",
        "outputId": "9411dc13-7880-4920-d438-deb4aa251a3f"
      },
      "source": [
        "import os\n",
        "from keras.preprocessing.image import ImageDataGenerator\n",
        "import numpy as np\n",
        "import shutil\n",
        "import PIL\n",
        "from PIL import Image\n",
        "\n",
        "train_apple_dir = os.path.join('/content/drive/MyDrive/dataset/apple')\n",
        "\n",
        "train_not_apple_dir = os.path.join('/content/drive/MyDrive/dataset/not_apple')\n",
        "\n",
        "train_apple_names = os.listdir(train_apple_dir)\n",
        "print(train_apple_names)\n",
        "\n",
        "train_not_apple_names = os.listdir(train_not_apple_dir)\n",
        "print(train_not_apple_names)"
      ],
      "execution_count": 31,
      "outputs": [
        {
          "output_type": "stream",
          "text": [
            "['apple_5.png', 'apple_3.png', 'apple_7.jpg', 'apple_6.png', 'apple_1.png', 'apple_8.jpg', '_0_9389843.jpg', '_2_7077621.jpg', '_4_295667.jpg', '_1_3895640.jpg', '_7_5350086.jpg', '_5_8320836.jpg', '_6_1836435.jpg', '_3_7786738.jpg', '_7_6568739.jpg', '_4_8506189.jpg', '_1_7746790.jpg', '_5_5015965.jpg', '_0_9336303.jpg', '_5_9784479.jpg', '_1_7757305.jpg', '_7_6178190.jpg', '_2_3064848.jpg', '_6_8899390.jpg', '_3_9468969.jpg', '_0_4976769.jpg', '_3_5277463.jpg', '_4_1872596.jpg', '_6_6220151.jpg', '_1_2347517.jpg', '_2_8424653.jpg', '_7_1841323.jpg']\n",
            "['265_100.jpg', 'r_271_100.jpg', '0_100.jpg', 'r_302_100.jpg', '146_100 (1).jpg', '214_100.jpg', '51_100.jpg', '192_100.jpg', 'r_309_100.jpg', '288_100.jpg', 'r_95_100.jpg', 'r_94_100.jpg', 'r_149_100.jpg', '217_100.jpg', 'r_302_100 (1).jpg', '49_100.jpg', 'r_128_100.jpg', 'r_318_100.jpg', '174_100.jpg', '176_100.jpg', 'r_307_100.jpg', 'r_314_100.jpg', 'r_96_100.jpg', 'r_66_100.jpg', 'r_57_100.jpg', '_16_7013252.jpg', '_1_7914247.jpg', '_28_6178125.jpg', '_8_8156943.jpg', '_26_1833893.jpg', '_7_3614717.jpg', 'cherry.jpg', 'fruit_of_a_cherry_on_a_transparent_background_by_prussiaart_dbb5ieo-fullview.png', 'photo-1528820600606-0ef5600cbfee.jfif', 'raspberry-close-up.jpg', 'images.jfif', '1583802271.jpg']\n"
          ],
          "name": "stdout"
        }
      ]
    },
    {
      "cell_type": "code",
      "metadata": {
        "colab": {
          "base_uri": "https://localhost:8080/"
        },
        "id": "OWjdBtSqv8CL",
        "outputId": "678d4c15-c252-4e36-a6f8-c8ccc318d872"
      },
      "source": [
        "print('total training apple images:', len(os.listdir(train_apple_dir)))\n",
        "print('total training non-apple images:', len(os.listdir(train_not_apple_dir))) #the below output currently shows"
      ],
      "execution_count": 32,
      "outputs": [
        {
          "output_type": "stream",
          "text": [
            "total training apple images: 32\n",
            "total training non-apple images: 37\n"
          ],
          "name": "stdout"
        }
      ]
    },
    {
      "cell_type": "markdown",
      "metadata": {
        "id": "udz8m3kRA468"
      },
      "source": [
        "**Below code is for resizing the images as images were of varying size.**"
      ]
    },
    {
      "cell_type": "code",
      "metadata": {
        "colab": {
          "base_uri": "https://localhost:8080/"
        },
        "id": "09hzmRqI_rU2",
        "outputId": "fbc47f50-321f-4b9d-9b16-bece812fb627"
      },
      "source": [
        "f = r'/content/drive/MyDrive/dataset/apple'\n",
        "for file in os.listdir(f):\n",
        "    f_img = f+\"/\"+file\n",
        "    img = Image.open(f_img)\n",
        "    img = img.resize((400,400))\n",
        "    img.save(f_img)\n",
        "    print(img.size)\n",
        "\n",
        "\n",
        "f = r'/content/drive/MyDrive/dataset/not_apple'\n",
        "for file in os.listdir(f):\n",
        "    f_img = f+\"/\"+file\n",
        "    img = Image.open(f_img)\n",
        "    img = img.resize((400,400))\n",
        "    img.save(f_img)\n"
      ],
      "execution_count": 33,
      "outputs": [
        {
          "output_type": "stream",
          "text": [
            "(400, 400)\n",
            "(400, 400)\n",
            "(400, 400)\n",
            "(400, 400)\n",
            "(400, 400)\n",
            "(400, 400)\n",
            "(400, 400)\n",
            "(400, 400)\n",
            "(400, 400)\n",
            "(400, 400)\n",
            "(400, 400)\n",
            "(400, 400)\n",
            "(400, 400)\n",
            "(400, 400)\n",
            "(400, 400)\n",
            "(400, 400)\n",
            "(400, 400)\n",
            "(400, 400)\n",
            "(400, 400)\n",
            "(400, 400)\n",
            "(400, 400)\n",
            "(400, 400)\n",
            "(400, 400)\n",
            "(400, 400)\n",
            "(400, 400)\n",
            "(400, 400)\n",
            "(400, 400)\n",
            "(400, 400)\n",
            "(400, 400)\n",
            "(400, 400)\n",
            "(400, 400)\n",
            "(400, 400)\n"
          ],
          "name": "stdout"
        }
      ]
    },
    {
      "cell_type": "markdown",
      "metadata": {
        "id": "GRkC-rfg8IGH"
      },
      "source": [
        "**since there is a slight imbalance in the given images of apple hence image augmentation has been utilized for oversampling the training images for apple.**"
      ]
    },
    {
      "cell_type": "code",
      "metadata": {
        "colab": {
          "base_uri": "https://localhost:8080/"
        },
        "id": "zLYTa8hqwRv5",
        "outputId": "7c2f2856-b982-43cf-ff0a-0c8dcd3a7f3e"
      },
      "source": [
        "class_list = ['apple','not_apple']\n",
        "\n",
        "for item in class_list:\n",
        "    \n",
        "    # We are creating temporary directories here because we delete these directories later\n",
        "    # create a base dir\n",
        "    aug_dir = 'aug_dir'\n",
        "    os.mkdir(aug_dir)\n",
        "    img_dir = os.path.join(aug_dir, 'img_dir')\n",
        "    os.mkdir(img_dir)\n",
        "\n",
        "    img_class = item\n",
        "\n",
        "    img_list = os.listdir('/content/drive/MyDrive/dataset/' + img_class)\n",
        "\n",
        "    for fname in img_list:\n",
        "            src = os.path.join('/content/drive/MyDrive/dataset/' + img_class, fname)\n",
        "            dst = os.path.join(img_dir, fname)\n",
        "            shutil.copyfile(src, dst)\n",
        "\n",
        "\n",
        "    # point to a dir containing the images and not to the images themselves\n",
        "    path = aug_dir\n",
        "    save_path = '/content/drive/MyDrive/dataset/' + img_class\n",
        "\n",
        "    datagen = ImageDataGenerator(\n",
        "        rotation_range=180,\n",
        "        width_shift_range=0.1,\n",
        "        height_shift_range=0.1,\n",
        "        zoom_range=0.1,\n",
        "        horizontal_flip=True,\n",
        "        vertical_flip=True,\n",
        "        #brightness_range=(0.9,1.1),\n",
        "        fill_mode='nearest')\n",
        "\n",
        "    batch_size = 1\n",
        "\n",
        "    aug_datagen = datagen.flow_from_directory(path,\n",
        "                                           save_to_dir=save_path,\n",
        "                                           save_format='jpg',\n",
        "                                                    target_size=(400,400),\n",
        "                                                    batch_size=batch_size)\n",
        "\n",
        "    \n",
        "    num_aug_images_wanted = 40 # total number of images we want to have in each class\n",
        "\n",
        "    \n",
        "    num_files = len(os.listdir(img_dir))\n",
        "    num_batches = int(np.ceil((num_aug_images_wanted-num_files)/batch_size))\n",
        "\n",
        "    # run the generator and create about 6000 augmented images\n",
        "    for i in range(0,num_batches):\n",
        "        imgs, labels = next(aug_datagen)\n",
        "        \n",
        "    # delete temporary directory with the raw image files\n",
        "    shutil.rmtree('aug_dir')"
      ],
      "execution_count": 34,
      "outputs": [
        {
          "output_type": "stream",
          "text": [
            "Found 32 images belonging to 1 classes.\n",
            "Found 35 images belonging to 1 classes.\n"
          ],
          "name": "stdout"
        }
      ]
    },
    {
      "cell_type": "code",
      "metadata": {
        "colab": {
          "base_uri": "https://localhost:8080/"
        },
        "id": "AZqalCkfL336",
        "outputId": "280ed83c-82c5-42da-8f5b-0ddbfd8b9469"
      },
      "source": [
        "print('total training apple images:', len(os.listdir(train_apple_dir)))\n",
        "print('total training non-apple images:', len(os.listdir(train_not_apple_dir)))"
      ],
      "execution_count": 35,
      "outputs": [
        {
          "output_type": "stream",
          "text": [
            "total training apple images: 40\n",
            "total training non-apple images: 40\n"
          ],
          "name": "stdout"
        }
      ]
    },
    {
      "cell_type": "code",
      "metadata": {
        "id": "Dyk8q0D4whub",
        "colab": {
          "base_uri": "https://localhost:8080/"
        },
        "outputId": "da9e4abc-85e2-4e0a-8911-22e6f18ef065"
      },
      "source": [
        "from tensorflow.keras.preprocessing.image import ImageDataGenerator\n",
        "\n",
        "train_datagen = ImageDataGenerator(rescale=1/255)\n",
        "validation_datagen = ImageDataGenerator(rescale=1/255)\n",
        "\n",
        "train_generator = train_datagen.flow_from_directory(\n",
        "        '/content/drive/MyDrive/dataset/', \n",
        "        classes = ['apple','not_apple'],\n",
        "        target_size=(200, 200), \n",
        "        batch_size=120,\n",
        "        class_mode='binary')\n",
        "\n",
        "\n",
        "validation_generator = validation_datagen.flow_from_directory(\n",
        "        '/content/drive/MyDrive/valid_apple',  \n",
        "        classes = ['apple','not_apple'],\n",
        "        target_size=(200, 200),  \n",
        "        batch_size=19,\n",
        "        class_mode='binary',\n",
        "        shuffle=False)"
      ],
      "execution_count": 36,
      "outputs": [
        {
          "output_type": "stream",
          "text": [
            "Found 78 images belonging to 2 classes.\n",
            "Found 23 images belonging to 2 classes.\n"
          ],
          "name": "stdout"
        }
      ]
    },
    {
      "cell_type": "code",
      "metadata": {
        "id": "E521EpdQPfRb"
      },
      "source": [
        "\n",
        "import tensorflow as tf\n",
        "import numpy as np\n",
        "from tensorflow import keras\n",
        "import os\n",
        "import cv2\n",
        "from tensorflow.keras.preprocessing.image import ImageDataGenerator\n",
        "from tensorflow.keras.preprocessing import image\n",
        "import matplotlib.pyplot as plt"
      ],
      "execution_count": 37,
      "outputs": []
    },
    {
      "cell_type": "markdown",
      "metadata": {
        "id": "CmIvxEVxeRKy"
      },
      "source": [
        "**creation of the convolutional layers**"
      ]
    },
    {
      "cell_type": "code",
      "metadata": {
        "id": "cJQMHE7tPgMl"
      },
      "source": [
        "model = keras.Sequential()\n",
        "\n",
        "# Convolutional layer and maxpool layer 1\n",
        "model.add(keras.layers.Conv2D(32,(3,3),activation='relu',input_shape=(200,200,3)))\n",
        "model.add(keras.layers.MaxPool2D(2,2))\n",
        "\n",
        "# Convolutional layer and maxpool layer 2\n",
        "model.add(keras.layers.Conv2D(64,(3,3),activation='relu'))\n",
        "model.add(keras.layers.MaxPool2D(2,2))\n",
        "\n",
        "# Convolutional layer and maxpool layer 3\n",
        "model.add(keras.layers.Conv2D(128,(3,3),activation='relu'))\n",
        "model.add(keras.layers.MaxPool2D(2,2))\n",
        "\n",
        "# Convolutional layer and maxpool layer 4\n",
        "model.add(keras.layers.Conv2D(128,(3,3),activation='relu'))\n",
        "model.add(keras.layers.MaxPool2D(2,2))\n",
        "\n",
        "# This layer flattens the resulting image array to 1D array\n",
        "model.add(keras.layers.Flatten())\n",
        "\n",
        "# Hidden layer with 512 neurons and Rectified Linear Unit activation function \n",
        "model.add(keras.layers.Dense(512,activation='relu'))\n",
        "\n",
        "#Here we use sigmoid activation function which makes our model output to lie between 0 and 1\n",
        "model.add(keras.layers.Dense(1,activation='sigmoid'))"
      ],
      "execution_count": 38,
      "outputs": []
    },
    {
      "cell_type": "code",
      "metadata": {
        "id": "Mg25GG99PxUy"
      },
      "source": [
        "model.compile(optimizer='adam',loss='binary_crossentropy',metrics=['accuracy'])"
      ],
      "execution_count": 40,
      "outputs": []
    },
    {
      "cell_type": "code",
      "metadata": {
        "colab": {
          "base_uri": "https://localhost:8080/"
        },
        "id": "lVLp-jBvP41e",
        "outputId": "8a761687-122b-4c86-d611-8884ff720db3"
      },
      "source": [
        "model.fit_generator(train_generator,\n",
        "         epochs = 30,\n",
        "         validation_data = validation_generator\n",
        "         )"
      ],
      "execution_count": 41,
      "outputs": [
        {
          "output_type": "stream",
          "text": [
            "/usr/local/lib/python3.7/dist-packages/tensorflow/python/keras/engine/training.py:1940: UserWarning: `Model.fit_generator` is deprecated and will be removed in a future version. Please use `Model.fit`, which supports generators.\n",
            "  warnings.warn('`Model.fit_generator` is deprecated and '\n",
            "/usr/local/lib/python3.7/dist-packages/PIL/Image.py:960: UserWarning: Palette images with Transparency expressed in bytes should be converted to RGBA images\n",
            "  \"Palette images with Transparency expressed in bytes should be \"\n"
          ],
          "name": "stderr"
        },
        {
          "output_type": "stream",
          "text": [
            "Epoch 1/30\n",
            "1/1 [==============================] - 10s 10s/step - loss: 0.6889 - accuracy: 0.7051 - val_loss: 1.0806 - val_accuracy: 0.3913\n",
            "Epoch 2/30\n",
            "1/1 [==============================] - 7s 7s/step - loss: 0.6527 - accuracy: 0.5897 - val_loss: 0.8978 - val_accuracy: 0.6522\n",
            "Epoch 3/30\n",
            "1/1 [==============================] - 7s 7s/step - loss: 1.4294 - accuracy: 0.4872 - val_loss: 0.4954 - val_accuracy: 0.7826\n",
            "Epoch 4/30\n",
            "1/1 [==============================] - 7s 7s/step - loss: 0.5785 - accuracy: 0.6795 - val_loss: 0.8651 - val_accuracy: 0.3478\n",
            "Epoch 5/30\n",
            "1/1 [==============================] - 7s 7s/step - loss: 0.6408 - accuracy: 0.5128 - val_loss: 0.7250 - val_accuracy: 0.4783\n",
            "Epoch 6/30\n",
            "1/1 [==============================] - 7s 7s/step - loss: 0.5624 - accuracy: 0.5641 - val_loss: 0.5774 - val_accuracy: 0.6087\n",
            "Epoch 7/30\n",
            "1/1 [==============================] - 7s 7s/step - loss: 0.4872 - accuracy: 0.8333 - val_loss: 0.5014 - val_accuracy: 0.7391\n",
            "Epoch 8/30\n",
            "1/1 [==============================] - 7s 7s/step - loss: 0.4088 - accuracy: 0.9231 - val_loss: 0.4202 - val_accuracy: 0.8261\n",
            "Epoch 9/30\n",
            "1/1 [==============================] - 7s 7s/step - loss: 0.2991 - accuracy: 0.9487 - val_loss: 0.2607 - val_accuracy: 0.9130\n",
            "Epoch 10/30\n",
            "1/1 [==============================] - 7s 7s/step - loss: 0.1793 - accuracy: 0.9615 - val_loss: 0.8934 - val_accuracy: 0.6957\n",
            "Epoch 11/30\n",
            "1/1 [==============================] - 7s 7s/step - loss: 0.2163 - accuracy: 0.8846 - val_loss: 0.4044 - val_accuracy: 0.7826\n",
            "Epoch 12/30\n",
            "1/1 [==============================] - 7s 7s/step - loss: 0.8187 - accuracy: 0.7308 - val_loss: 0.1919 - val_accuracy: 0.9130\n",
            "Epoch 13/30\n",
            "1/1 [==============================] - 7s 7s/step - loss: 0.0865 - accuracy: 0.9744 - val_loss: 1.0216 - val_accuracy: 0.6957\n",
            "Epoch 14/30\n",
            "1/1 [==============================] - 7s 7s/step - loss: 0.2060 - accuracy: 0.8718 - val_loss: 1.1108 - val_accuracy: 0.6522\n",
            "Epoch 15/30\n",
            "1/1 [==============================] - 7s 7s/step - loss: 0.2336 - accuracy: 0.8590 - val_loss: 0.5511 - val_accuracy: 0.7826\n",
            "Epoch 16/30\n",
            "1/1 [==============================] - 7s 7s/step - loss: 0.1115 - accuracy: 0.9744 - val_loss: 0.3660 - val_accuracy: 0.8696\n",
            "Epoch 17/30\n",
            "1/1 [==============================] - 7s 7s/step - loss: 0.1112 - accuracy: 0.9872 - val_loss: 0.3312 - val_accuracy: 0.8261\n",
            "Epoch 18/30\n",
            "1/1 [==============================] - 7s 7s/step - loss: 0.1120 - accuracy: 0.9487 - val_loss: 0.3635 - val_accuracy: 0.8261\n",
            "Epoch 19/30\n",
            "1/1 [==============================] - 7s 7s/step - loss: 0.0826 - accuracy: 0.9615 - val_loss: 0.5527 - val_accuracy: 0.8696\n",
            "Epoch 20/30\n",
            "1/1 [==============================] - 8s 8s/step - loss: 0.0543 - accuracy: 0.9872 - val_loss: 0.7810 - val_accuracy: 0.8261\n",
            "Epoch 21/30\n",
            "1/1 [==============================] - 7s 7s/step - loss: 0.0550 - accuracy: 0.9872 - val_loss: 0.5419 - val_accuracy: 0.8696\n",
            "Epoch 22/30\n",
            "1/1 [==============================] - 7s 7s/step - loss: 0.0308 - accuracy: 0.9872 - val_loss: 0.5168 - val_accuracy: 0.9130\n",
            "Epoch 23/30\n",
            "1/1 [==============================] - 7s 7s/step - loss: 0.0279 - accuracy: 0.9872 - val_loss: 0.8041 - val_accuracy: 0.8261\n",
            "Epoch 24/30\n",
            "1/1 [==============================] - 7s 7s/step - loss: 0.0093 - accuracy: 1.0000 - val_loss: 1.1445 - val_accuracy: 0.8261\n",
            "Epoch 25/30\n",
            "1/1 [==============================] - 7s 7s/step - loss: 0.0112 - accuracy: 1.0000 - val_loss: 1.1900 - val_accuracy: 0.8696\n",
            "Epoch 26/30\n",
            "1/1 [==============================] - 7s 7s/step - loss: 0.0076 - accuracy: 1.0000 - val_loss: 1.1752 - val_accuracy: 0.8696\n",
            "Epoch 27/30\n",
            "1/1 [==============================] - 7s 7s/step - loss: 0.0019 - accuracy: 1.0000 - val_loss: 1.1334 - val_accuracy: 0.8696\n",
            "Epoch 28/30\n",
            "1/1 [==============================] - 7s 7s/step - loss: 7.3260e-04 - accuracy: 1.0000 - val_loss: 1.0873 - val_accuracy: 0.8696\n",
            "Epoch 29/30\n",
            "1/1 [==============================] - 7s 7s/step - loss: 4.9762e-04 - accuracy: 1.0000 - val_loss: 1.0603 - val_accuracy: 0.8696\n",
            "Epoch 30/30\n",
            "1/1 [==============================] - 7s 7s/step - loss: 4.6614e-04 - accuracy: 1.0000 - val_loss: 1.0595 - val_accuracy: 0.8696\n"
          ],
          "name": "stdout"
        },
        {
          "output_type": "execute_result",
          "data": {
            "text/plain": [
              "<tensorflow.python.keras.callbacks.History at 0x7fee4d18eb50>"
            ]
          },
          "metadata": {
            "tags": []
          },
          "execution_count": 41
        }
      ]
    },
    {
      "cell_type": "markdown",
      "metadata": {
        "id": "AEe-ky47eEdh"
      },
      "source": [
        "**saving the model**"
      ]
    },
    {
      "cell_type": "code",
      "metadata": {
        "colab": {
          "base_uri": "https://localhost:8080/"
        },
        "id": "5ysAA-YAZWLf",
        "outputId": "42126580-fb9c-426b-9895-7e71b52f433d"
      },
      "source": [
        "model_json = model.to_json()\n",
        "with open(\"apple_classifier_model.json\", \"w\") as json_file:\n",
        "    json_file.write(model_json)\n",
        "# serialize weights to HDF5\n",
        "model.save_weights(\"apple_classifier_model.h5\")\n",
        "print(\"Saved model to disk\")"
      ],
      "execution_count": 46,
      "outputs": [
        {
          "output_type": "stream",
          "text": [
            "Saved model to disk\n"
          ],
          "name": "stdout"
        }
      ]
    },
    {
      "cell_type": "markdown",
      "metadata": {
        "id": "bVjuQrG3eJkj"
      },
      "source": [
        "**prediction**"
      ]
    },
    {
      "cell_type": "code",
      "metadata": {
        "id": "Of9mg3_xSguy"
      },
      "source": [
        "def predictImage(filename):\n",
        "    img1 = image.load_img(filename,target_size=(200,200))\n",
        "    \n",
        "    plt.imshow(img1)\n",
        " \n",
        "    Y = image.img_to_array(img1)\n",
        "    \n",
        "    X = np.expand_dims(Y,axis=0)\n",
        "    val = model.predict(X)\n",
        "    print(val)\n",
        "    if val == 1:\n",
        "        \n",
        "        plt.xlabel(\"Not an apple\",fontsize=30)\n",
        "        \n",
        "    \n",
        "    elif val == 0:\n",
        "        \n",
        "        plt.xlabel(\"An apple\",fontsize=30)"
      ],
      "execution_count": 44,
      "outputs": []
    },
    {
      "cell_type": "code",
      "metadata": {
        "colab": {
          "base_uri": "https://localhost:8080/",
          "height": 318
        },
        "id": "1VmV17erStrW",
        "outputId": "edd6176c-25e1-47f3-891b-f6b514cdf931"
      },
      "source": [
        "predictImage('/content/photo-1528820600606-0ef5600cbfee.jpg')"
      ],
      "execution_count": 45,
      "outputs": [
        {
          "output_type": "stream",
          "text": [
            "[[1.]]\n"
          ],
          "name": "stdout"
        },
        {
          "output_type": "display_data",
          "data": {
            "image/png": "[encoded data removed]",
            "text/plain": [
              "<Figure size 432x288 with 1 Axes>"
            ]
          },
          "metadata": {
            "tags": [],
            "needs_background": "light"
          }
        }
      ]
    },
    {
      "cell_type": "code",
      "metadata": {
        "id": "w6envOUJTO4h"
      },
      "source": [
        ""
      ],
      "execution_count": null,
      "outputs": []
    }
  ]
}